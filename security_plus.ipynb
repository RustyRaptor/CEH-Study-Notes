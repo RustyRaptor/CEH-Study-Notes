{
 "cells": [
  {
   "cell_type": "markdown",
   "id": "0dac59c6",
   "metadata": {},
   "source": [
    "# Security+ Study notes\n",
    "\n",
    "## Initial Self Assessment Notes\n",
    "\n",
    "1. Understand attack terminology such as vishing phishing etc.\n",
    "2. \n",
    "\n",
    "## Terminology\n",
    "\n",
    "### Attack Types\n",
    "\n",
    "1. On-path\n",
    "   1. An attack where an attacker sits between two devices and intercepts communication between those two systems. \n",
    "   2. Man-in-the-middle, man-in-the-browser\n",
    "2. Keylogger\n",
    "3. Rootkit\n",
    "4. DDoS\n",
    "5. Injection\n",
    "   1. Refers to any kind of code injection done through a data stream\n",
    "6. Supply chain\n",
    "7. Vishing\n",
    "   1. Phishing done over voice\n",
    "8. RFID Cloning\n",
    "\n",
    "### Security Controls\n",
    "\n",
    "1. Fencing\n",
    "   1. Literally fences outside\n",
    "2. Authentication Token\n",
    "   1. Like 2fa tokens for logins\n",
    "3. Access control vestibule\n",
    "   1. Rotating man trap doors for managing foot traffic\n",
    "   2. Conditional locking mechanisms\n",
    "4. Biometrics\n",
    "   1. Yeah\n",
    "5. Access badge\n",
    "   1. Yeah\n",
    "6. Security Guard\n",
    "   1. Duh\n",
    "7. Lighting\n",
    "   1. Literally refers to lights being used to help with safety, especially outdoors in parking lots. This is more practical than expected.\n",
    "\n",
    "### Security Categories\n",
    "\n",
    "1. Operational\n",
    "   1. Implemented by people instead of systems\n",
    "   2. Controls to do with how people operate in a system or facility\n",
    "2. Managerial\n",
    "   1. Administrative controls related to security design\n",
    "   2. Policies and procedures\n",
    "3. Physical\n",
    "   1. Limit physical access\n",
    "   2. Badge reader, fence, guard shack \n",
    "4. Technical\n",
    "   1. Electronic systems level implementations\n",
    "\n",
    "### Authentication Factors\n",
    "1. Something you know\n",
    "2. Something you have\n",
    "3. Something you are\n",
    "4. Somwhere you are\n",
    "\n",
    "## Physical Security Concepts and Practices\n",
    "\n",
    "1. Prevent access\n",
    "   1. Barricades/Bollards\n",
    "2. Channel people through access points\n",
    "3. Identify safety concerns"
   ]
  },
  {
   "cell_type": "code",
   "execution_count": null,
   "id": "403ae9ea",
   "metadata": {
    "vscode": {
     "languageId": "plaintext"
    }
   },
   "outputs": [],
   "source": []
  }
 ],
 "metadata": {
  "language_info": {
   "name": "python"
  }
 },
 "nbformat": 4,
 "nbformat_minor": 5
}
