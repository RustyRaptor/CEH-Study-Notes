{
 "cells": [
  {
   "cell_type": "markdown",
   "id": "0dac59c6",
   "metadata": {},
   "source": [
    "Which of the following threat actors is the most likely to be hired by a foreign government to attack critical systems located in other countries? \n",
    "C\n",
    "C\n",
    "N\n",
    "Which of the following is used to add extra complexity before using a one-way data transformation algorithm? \n",
    "D\n",
    "D\n",
    "Y Further study needed on encryption methods\n",
    "An employee clicked a link in an email from a payment website that asked the employee to update contact information. The employee entered the log-in information but received a “page not found” error message. Which of the following types of social engineering attacks occurred? \n",
    "D\n",
    "D\n",
    "N\n",
    "An enterprise is trying to limit outbound DNS traffic originating from its internal network. Outbound DNS requests will only be allowed from one device with the IP address 10.50.10.25. Which of the following firewall ACLs will accomplish this goal? \n",
    "D\n",
    "D\n",
    "Y Need to study firewall ACL syntax and usage\n",
    "A data administrator is configuring authentication for a SaaS application and would like to reduce the number of credentials employees need to maintain. The company prefers to use domain credentials to access new SaaS applications. Which of the following methods would allow this functionality?\n",
    "A\n",
    "A\n",
    "N\n",
    "Which of the following scenarios describes a possible business email compromise attack? \n",
    "C\n",
    "A\n",
    "N\n",
    "A company prevented direct access from the database administrators’ workstations to the network segment that contains database servers. Which of the following should a database administrator use to access the database servers? \n",
    "A\n",
    "A\n",
    "N\n",
    "An organization’s internet-facing website was compromised when an attacker exploited a buffer overflow. Which of the following should the organization deploy to best protect against similar attacks in the future? \n",
    "B\n",
    "B\n",
    "Y Review OSI model, research different types of firewalls including WAF, NGFW. Learn acronyms SD-WAN An administrator notices that several users are logging in from suspicious IP addresses. After speaking with the users, the administrator determines that the employees were not logging in from those IP addresses and resets the affected users’ passwords. Which of the following should the administrator implement to prevent this type of attack from succeeding in the future?\n",
    "A\n",
    "A\n",
    "N\n",
    "An employee receives a text message that appears to have been sent by the payroll department and is asking for credential verification. Which of the following social engineering techniques are being attempted? (Choose two.) \n",
    "CE\n",
    "CE\n",
    "Y Review different typs of social engineering techniques such as Smishing, Vishing, Impersonation\n",
    "Several employees received a fraudulent text message from someone claiming to be the Chief Executive Officer (CEO). The message stated: “I’m in an airport right now with no access to email. I need you to buy gift cards for employee recognition awards. Please send the gift cards to following email address.” Which of the following are the best responses to this situation? (Choose two). \n",
    "\n"
   ]
  },
  {
   "cell_type": "code",
   "execution_count": null,
   "id": "403ae9ea",
   "metadata": {
    "vscode": {
     "languageId": "plaintext"
    }
   },
   "outputs": [],
   "source": []
  }
 ],
 "metadata": {
  "language_info": {
   "name": "python"
  }
 },
 "nbformat": 4,
 "nbformat_minor": 5
}
